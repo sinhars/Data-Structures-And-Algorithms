{
 "metadata": {
  "language_info": {
   "codemirror_mode": {
    "name": "ipython",
    "version": 3
   },
   "file_extension": ".py",
   "mimetype": "text/x-python",
   "name": "python",
   "nbconvert_exporter": "python",
   "pygments_lexer": "ipython3",
   "version": "3.9.1"
  },
  "orig_nbformat": 2,
  "kernelspec": {
   "name": "pythonjvsc74a57bd0d643c0507c5eba266843b297fb5f6e55b2186f37d743b381cbaffb63bc1e5c46",
   "display_name": "Python 3.9.1 64-bit ('.dsa': venv)"
  },
  "metadata": {
   "interpreter": {
    "hash": "d643c0507c5eba266843b297fb5f6e55b2186f37d743b381cbaffb63bc1e5c46"
   }
  }
 },
 "nbformat": 4,
 "nbformat_minor": 2,
 "cells": [
  {
   "cell_type": "code",
   "execution_count": 3,
   "metadata": {},
   "outputs": [],
   "source": [
    "import numpy as np\n",
    "import math"
   ]
  },
  {
   "cell_type": "code",
   "execution_count": null,
   "metadata": {},
   "outputs": [],
   "source": []
  }
 ]
}